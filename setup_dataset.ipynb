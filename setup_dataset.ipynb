{
 "cells": [
  {
   "cell_type": "code",
   "execution_count": null,
   "id": "51140587",
   "metadata": {},
   "outputs": [],
   "source": [
    "import os\n",
    "from pathlib import Path\n",
    "import numpy as np\n",
    "import zipfile\n",
    "import shutil\n",
    "import random\n",
    "import matplotlib.pyplot as plt\n",
    "from PIL import Image"
   ]
  },
  {
   "cell_type": "code",
   "execution_count": null,
   "id": "1b8ab84a",
   "metadata": {},
   "outputs": [],
   "source": [
    "SEED = 42\n",
    "np.random.seed(SEED)"
   ]
  },
  {
   "cell_type": "markdown",
   "id": "d9b20f86",
   "metadata": {},
   "source": [
    "# 1. setup dataset"
   ]
  },
  {
   "cell_type": "code",
   "execution_count": null,
   "id": "5f12b3d6",
   "metadata": {},
   "outputs": [],
   "source": [
    "# set data file name\n",
    "\n",
    "\"\"\"\n",
    "images\n",
    " |- test\n",
    "     |- salad  70\n",
    "     |- sushi  70\n",
    "     |- tofu   70\n",
    " |- train\n",
    "     |- salad 200\n",
    "     |- sushi 200\n",
    "     |- tofu  200\n",
    "\"\"\"\n",
    "\n",
    "data_file = r\"./dataset/images.zip\"\n",
    "print(\"data_file= {}\".format(Path(data_file).resolve()))"
   ]
  },
  {
   "cell_type": "code",
   "execution_count": null,
   "id": "163e76a8",
   "metadata": {},
   "outputs": [],
   "source": [
    "# set relevant directory names\n",
    "\n",
    "OUTPUT_DIR = Path(Path(data_file).parent.parent, \"output\").resolve()\n",
    "print(f\"{OUTPUT_DIR= }\")\n",
    "\n",
    "MODEL_DIR = Path(Path(data_file).parent.parent, \"model\").resolve()\n",
    "print(f\"{MODEL_DIR= }\")"
   ]
  },
  {
   "cell_type": "code",
   "execution_count": null,
   "id": "d9c1752d",
   "metadata": {},
   "outputs": [],
   "source": [
    "# unzip data_file\n",
    "\n",
    "UNZIP_DIR = Path(OUTPUT_DIR, \"unzip_dir\")\n",
    "# UNZIP_DIR = Path(r\"W:\\output\\unzip_dir\")  # debug code\n",
    "\n",
    "if Path(UNZIP_DIR).exists():\n",
    "    shutil.rmtree(UNZIP_DIR)\n",
    "        \n",
    "Path(UNZIP_DIR).mkdir(parents=True)\n",
    "\n",
    "IMAGES_DIR = Path(UNZIP_DIR, \"images\")\n",
    "\n",
    "with zipfile.ZipFile(data_file) as z:\n",
    "    for info in z.infolist():\n",
    "        info.filename = info.orig_filename.encode('cp437').decode('cp932')\n",
    "        z.extract(info, UNZIP_DIR)\n",
    "\n",
    "for path in UNZIP_DIR.glob(\"**/Thumbs.db\"):  # remove Thumbs.db files\n",
    "    path.unlink()"
   ]
  },
  {
   "cell_type": "code",
   "execution_count": null,
   "id": "32ba3451",
   "metadata": {},
   "outputs": [],
   "source": [
    "# set directory names for train and test dataset\n",
    "\n",
    "train_dir = Path(IMAGES_DIR, \"train\")\n",
    "train_salad_dir = Path(train_dir, \"salad\")\n",
    "train_sushi_dir = Path(train_dir, \"sushi\")\n",
    "train_tofu_dir = Path(train_dir, \"tofu\")\n",
    "\n",
    "test_dir = Path(IMAGES_DIR, \"test\")\n",
    "test_salad_dir = Path(test_dir, \"salad\")\n",
    "test_sushi_dir = Path(test_dir, \"sushi\")\n",
    "test_tofu_dir = Path(test_dir, \"tofu\")\n",
    "\n",
    "train_dirs = [train_salad_dir, train_sushi_dir, train_tofu_dir]\n",
    "test_dirs = [test_salad_dir, test_sushi_dir, test_tofu_dir]"
   ]
  },
  {
   "cell_type": "code",
   "execution_count": null,
   "id": "e5b4b960",
   "metadata": {},
   "outputs": [],
   "source": [
    "train_dirs"
   ]
  },
  {
   "cell_type": "code",
   "execution_count": null,
   "id": "4f254400",
   "metadata": {},
   "outputs": [],
   "source": [
    "# setup validation dataset\n",
    "# move a half of train dataset to validation dataset\n",
    "\n",
    "validation_dir = Path(IMAGES_DIR, \"validation\")\n",
    "validation_salad_dir = Path(validation_dir, \"salad\")\n",
    "validation_sushi_dir = Path(validation_dir, \"sushi\")\n",
    "validation_tofu_dir = Path(validation_dir, \"tofu\")\n",
    "\n",
    "validation_dirs = [validation_salad_dir, validation_sushi_dir, validation_tofu_dir]\n",
    "\n",
    "for src, dst in zip(train_dirs, validation_dirs):\n",
    "    Path(dst).mkdir(parents=True)\n",
    "\n",
    "    items = [item.name for item in src.iterdir()]\n",
    "    random.shuffle(items)\n",
    "\n",
    "    val_size = int(len(os.listdir(src))/2)\n",
    "\n",
    "    for item in items[:val_size]:\n",
    "        src_file = Path(src, item)\n",
    "        dst_file = Path(dst, item)\n",
    "        shutil.move(src_file, dst_file)"
   ]
  },
  {
   "cell_type": "code",
   "execution_count": null,
   "id": "84afec4f",
   "metadata": {},
   "outputs": [],
   "source": [
    "# confirm dataset size\n",
    "\n",
    "dirs = [*train_dirs, *test_dirs, *validation_dirs]\n",
    "\n",
    "print(\"confirm dataset size:\")\n",
    "\n",
    "for _ in dirs:\n",
    "    print(_, len(os.listdir(_)))"
   ]
  },
  {
   "cell_type": "code",
   "execution_count": null,
   "id": "2268a171",
   "metadata": {},
   "outputs": [],
   "source": [
    "# draw some images\n",
    "\n",
    "def draw_images(image_files, save_file=None):\n",
    "    \"\"\" draw images \"\"\"\n",
    "\n",
    "    row_count = 3\n",
    "    column_count = 10\n",
    "\n",
    "    fig, ax = plt.subplots(row_count, column_count, figsize=(13,4), facecolor=\"k\")\n",
    "    fig.subplots_adjust(wspace=0.2, hspace=0.2)\n",
    "\n",
    "    for i in range(row_count):\n",
    "        for j in range(column_count):\n",
    "            ax[i,j].axis(\"off\")\n",
    "            ax[i,j].set_title(i*10+j+1, color=\"w\", fontsize=10)\n",
    "            ax[i,j].imshow(Image.open(image_files[i*10+j]))\n",
    "    \n",
    "    if save_file:\n",
    "        plt.savefig(save_file)\n",
    "        \n",
    "    plt.show()\n",
    "    plt.close()\n",
    "\n",
    "\n",
    "for dir_path in train_dirs:\n",
    "    image_files = list()\n",
    "    for i, path in enumerate(dir_path.iterdir()):\n",
    "        image_files.append(path)\n",
    "        if i > 28:\n",
    "            break\n",
    "    print(\"sample \" + dir_path.name + \" images:\")\n",
    "    draw_images(image_files, save_file=Path(OUTPUT_DIR, f\"sampleimages_{dir_path.name}.png\"))"
   ]
  },
  {
   "cell_type": "code",
   "execution_count": null,
   "id": "39fe96e1",
   "metadata": {},
   "outputs": [],
   "source": []
  }
 ],
 "metadata": {
  "kernelspec": {
   "display_name": "env",
   "language": "python",
   "name": "python3"
  },
  "language_info": {
   "codemirror_mode": {
    "name": "ipython",
    "version": 3
   },
   "file_extension": ".py",
   "mimetype": "text/x-python",
   "name": "python",
   "nbconvert_exporter": "python",
   "pygments_lexer": "ipython3",
   "version": "3.12.7"
  }
 },
 "nbformat": 4,
 "nbformat_minor": 5
}
